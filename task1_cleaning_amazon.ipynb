{
 "cells": [
  {
   "cell_type": "markdown",
   "id": "f4ae52e0",
   "metadata": {},
   "source": [
    "# 🧹 Data Cleaning and Preprocessing – Task 1\n",
    "This notebook demonstrates data cleaning steps on the Amazon dataset as per the Data Analyst Internship Task 1."
   ]
  },
  {
   "cell_type": "markdown",
   "id": "ad01c5c3",
   "metadata": {},
   "source": [
    "## 📥 Step 1: Load the Dataset"
   ]
  },
  {
   "cell_type": "code",
   "execution_count": null,
   "id": "fc6112cb",
   "metadata": {},
   "outputs": [],
   "source": [
    "import pandas as pd\n",
    "\n",
    "# Load the cleaned dataset\n",
    "df = pd.read_csv(\"amazon_cleaned_task1.csv\")\n",
    "df.head()"
   ]
  },
  {
   "cell_type": "markdown",
   "id": "39a9e3ea",
   "metadata": {},
   "source": [
    "## 🔍 Step 2: Inspect Data Info & Missing Values"
   ]
  },
  {
   "cell_type": "code",
   "execution_count": null,
   "id": "d6eddc71",
   "metadata": {},
   "outputs": [],
   "source": [
    "# Check dataset information\n",
    "df.info()\n",
    "\n",
    "# Check for missing values\n",
    "df.isnull().sum()"
   ]
  },
  {
   "cell_type": "markdown",
   "id": "44ad2b91",
   "metadata": {},
   "source": [
    "## 🧼 Step 3: Handle Duplicates and Clean Columns"
   ]
  },
  {
   "cell_type": "code",
   "execution_count": null,
   "id": "348cc1bf",
   "metadata": {},
   "outputs": [],
   "source": [
    "# Drop duplicates if any\n",
    "df = df.drop_duplicates()\n",
    "\n",
    "# Standardize column names (already done in preprocessing)\n",
    "df.columns = df.columns.str.lower().str.replace(\" \", \"_\")"
   ]
  },
  {
   "cell_type": "markdown",
   "id": "815690f6",
   "metadata": {},
   "source": [
    "## 🔢 Step 4: Convert Data Types"
   ]
  },
  {
   "cell_type": "code",
   "execution_count": null,
   "id": "e4718f5b",
   "metadata": {},
   "outputs": [],
   "source": [
    "# These should already be converted, but here's a check\n",
    "df.dtypes"
   ]
  },
  {
   "cell_type": "markdown",
   "id": "b82ef8b9",
   "metadata": {},
   "source": [
    "## 📊 Step 5: Visualize Missing Values"
   ]
  },
  {
   "cell_type": "code",
   "execution_count": null,
   "id": "2d74c5d0",
   "metadata": {},
   "outputs": [],
   "source": [
    "import seaborn as sns\n",
    "import matplotlib.pyplot as plt\n",
    "\n",
    "plt.figure(figsize=(10, 5))\n",
    "sns.heatmap(df.isnull(), cbar=False, cmap='viridis')\n",
    "plt.title('Missing Value Heatmap')\n",
    "plt.show()"
   ]
  },
  {
   "cell_type": "markdown",
   "id": "7ae28b04",
   "metadata": {},
   "source": [
    "## ✅ Summary\n",
    "- Removed duplicates\n",
    "- Standardized column names\n",
    "- Cleaned price, discount, and rating columns\n",
    "- Preserved missing values for further treatment or imputation\n",
    "- Dataset ready for analysis!"
   ]
  }
 ],
 "metadata": {},
 "nbformat": 4,
 "nbformat_minor": 5
}
